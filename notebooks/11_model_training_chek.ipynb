{
 "cells": [
  {
   "cell_type": "code",
   "execution_count": 1,
   "id": "4aba119e-8624-4c30-ad3c-49759f3f18d4",
   "metadata": {},
   "outputs": [],
   "source": [
    "import sys\n",
    "import os\n",
    "\n",
    "# Add the parent directory to the Python path\n",
    "sys.path.append(os.path.abspath(os.path.join(os.getcwd(), \"..\")))\n",
    "import src.config as config"
   ]
  },
  {
   "cell_type": "code",
   "execution_count": 2,
   "id": "60fe3ee1",
   "metadata": {},
   "outputs": [],
   "source": [
    "import joblib\n",
    "from hsml.model_schema import ModelSchema\n",
    "from hsml.schema import Schema\n",
    "from sklearn.metrics import mean_absolute_error\n",
    "\n",
    "import src.config as config\n",
    "from src.data_utils import transform_ts_data_info_features_and_target\n",
    "from src.inference import (\n",
    "    fetch_days_data,\n",
    "    get_hopsworks_project,\n",
    "    load_metrics_from_registry,\n",
    "    load_model_from_registry,\n",
    ")\n",
    "from src.pipeline_utils import get_pipeline"
   ]
  },
  {
   "cell_type": "code",
   "execution_count": 3,
   "id": "08c3943c",
   "metadata": {},
   "outputs": [],
   "source": [
    "from datetime import datetime, timedelta, timezone\n",
    "from zoneinfo import ZoneInfo\n",
    "import hopsworks\n",
    "import numpy as np\n",
    "import pandas as pd\n",
    "from hsfs.feature_store import FeatureStore\n",
    "\n",
    "import src.config as config\n",
    "from src.data_utils import transform_ts_data_info_features"
   ]
  },
  {
   "cell_type": "code",
   "execution_count": 4,
   "id": "88ad6d4b",
   "metadata": {},
   "outputs": [],
   "source": [
    "def get_feature_store() -> FeatureStore:\n",
    "    project = get_hopsworks_project()\n",
    "    return project.get_feature_store()"
   ]
  },
  {
   "cell_type": "code",
   "execution_count": 5,
   "id": "12703f21",
   "metadata": {},
   "outputs": [],
   "source": [
    "def fetch_days_data(days):\n",
    "    current_date = pd.to_datetime(datetime.now(timezone.utc)).tz_convert(\"America/New_York\")\n",
    "    fetch_data_from = current_date - timedelta(days=(days))\n",
    "    fetch_data_to = current_date - timedelta(days=0)\n",
    "    print(fetch_data_from, fetch_data_to)\n",
    "    print(\"ghcgchcgfc\")\n",
    "    fs = get_feature_store()\n",
    "    fg = fs.get_feature_group(name=config.FEATURE_GROUP_NAME, version=1)\n",
    "\n",
    "    query = fg.select_all()\n",
    "    # query = query.filter((fg.pickup_hour >= fetch_data_from))\n",
    "    df = query.read()\n",
    "    cond = (df[\"pickup_hour\"] >= fetch_data_from) & (df[\"pickup_hour\"] <= fetch_data_to)\n",
    "    print(sum(cond))\n",
    "    return df[cond]\n",
    "    # return df"
   ]
  },
  {
   "cell_type": "code",
   "execution_count": 6,
   "id": "596f748e",
   "metadata": {},
   "outputs": [
    {
     "name": "stdout",
     "output_type": "stream",
     "text": [
      "Fetching data from group store ...\n",
      "2024-11-12 00:28:20.333393-05:00 2025-05-11 01:28:20.333393-04:00\n",
      "ghcgchcgfc\n",
      "2025-05-11 01:28:20,432 INFO: Initializing external client\n",
      "2025-05-11 01:28:20,434 INFO: Base URL: https://c.app.hopsworks.ai:443\n"
     ]
    },
    {
     "name": "stdout",
     "output_type": "stream",
     "text": [
      "2025-05-11 01:28:21,237 INFO: Python Engine initialized.\n",
      "\n",
      "Logged in to project, explore it here https://c.app.hopsworks.ai:443/p/1215645\n",
      "Finished: Reading data from Hopsworks, using Hopsworks Feature Query Service (3.06s) \n",
      "366739\n"
     ]
    }
   ],
   "source": [
    "print(f\"Fetching data from group store ...\")\n",
    "ts_data = fetch_days_data(180)"
   ]
  },
  {
   "cell_type": "code",
   "execution_count": 7,
   "id": "d5857504",
   "metadata": {},
   "outputs": [
    {
     "data": {
      "text/html": [
       "<div>\n",
       "<style scoped>\n",
       "    .dataframe tbody tr th:only-of-type {\n",
       "        vertical-align: middle;\n",
       "    }\n",
       "\n",
       "    .dataframe tbody tr th {\n",
       "        vertical-align: top;\n",
       "    }\n",
       "\n",
       "    .dataframe thead th {\n",
       "        text-align: right;\n",
       "    }\n",
       "</style>\n",
       "<table border=\"1\" class=\"dataframe\">\n",
       "  <thead>\n",
       "    <tr style=\"text-align: right;\">\n",
       "      <th></th>\n",
       "      <th>pickup_hour</th>\n",
       "      <th>pickup_location_id</th>\n",
       "      <th>rides</th>\n",
       "    </tr>\n",
       "  </thead>\n",
       "  <tbody>\n",
       "    <tr>\n",
       "      <th>8</th>\n",
       "      <td>2025-03-25 19:00:00+00:00</td>\n",
       "      <td>JC066</td>\n",
       "      <td>0</td>\n",
       "    </tr>\n",
       "    <tr>\n",
       "      <th>11</th>\n",
       "      <td>2025-03-03 16:00:00+00:00</td>\n",
       "      <td>JC057</td>\n",
       "      <td>0</td>\n",
       "    </tr>\n",
       "    <tr>\n",
       "      <th>14</th>\n",
       "      <td>2024-12-17 03:00:00+00:00</td>\n",
       "      <td>JC066</td>\n",
       "      <td>0</td>\n",
       "    </tr>\n",
       "    <tr>\n",
       "      <th>17</th>\n",
       "      <td>2025-05-03 23:00:00+00:00</td>\n",
       "      <td>JC081</td>\n",
       "      <td>0</td>\n",
       "    </tr>\n",
       "    <tr>\n",
       "      <th>19</th>\n",
       "      <td>2025-03-11 07:00:00+00:00</td>\n",
       "      <td>JC034</td>\n",
       "      <td>0</td>\n",
       "    </tr>\n",
       "    <tr>\n",
       "      <th>...</th>\n",
       "      <td>...</td>\n",
       "      <td>...</td>\n",
       "      <td>...</td>\n",
       "    </tr>\n",
       "    <tr>\n",
       "      <th>746171</th>\n",
       "      <td>2025-03-03 13:00:00+00:00</td>\n",
       "      <td>JC052</td>\n",
       "      <td>0</td>\n",
       "    </tr>\n",
       "    <tr>\n",
       "      <th>746172</th>\n",
       "      <td>2025-04-20 19:00:00+00:00</td>\n",
       "      <td>HB506</td>\n",
       "      <td>0</td>\n",
       "    </tr>\n",
       "    <tr>\n",
       "      <th>746173</th>\n",
       "      <td>2024-11-29 00:00:00+00:00</td>\n",
       "      <td>JC009</td>\n",
       "      <td>4</td>\n",
       "    </tr>\n",
       "    <tr>\n",
       "      <th>746174</th>\n",
       "      <td>2024-11-19 21:00:00+00:00</td>\n",
       "      <td>JC107</td>\n",
       "      <td>0</td>\n",
       "    </tr>\n",
       "    <tr>\n",
       "      <th>746178</th>\n",
       "      <td>2025-03-09 19:00:00+00:00</td>\n",
       "      <td>JC013</td>\n",
       "      <td>0</td>\n",
       "    </tr>\n",
       "  </tbody>\n",
       "</table>\n",
       "<p>366739 rows × 3 columns</p>\n",
       "</div>"
      ],
      "text/plain": [
       "                     pickup_hour pickup_location_id  rides\n",
       "8      2025-03-25 19:00:00+00:00              JC066      0\n",
       "11     2025-03-03 16:00:00+00:00              JC057      0\n",
       "14     2024-12-17 03:00:00+00:00              JC066      0\n",
       "17     2025-05-03 23:00:00+00:00              JC081      0\n",
       "19     2025-03-11 07:00:00+00:00              JC034      0\n",
       "...                          ...                ...    ...\n",
       "746171 2025-03-03 13:00:00+00:00              JC052      0\n",
       "746172 2025-04-20 19:00:00+00:00              HB506      0\n",
       "746173 2024-11-29 00:00:00+00:00              JC009      4\n",
       "746174 2024-11-19 21:00:00+00:00              JC107      0\n",
       "746178 2025-03-09 19:00:00+00:00              JC013      0\n",
       "\n",
       "[366739 rows x 3 columns]"
      ]
     },
     "execution_count": 7,
     "metadata": {},
     "output_type": "execute_result"
    }
   ],
   "source": [
    "ts_data"
   ]
  }
 ],
 "metadata": {
  "kernelspec": {
   "display_name": "venv",
   "language": "python",
   "name": "python3"
  },
  "language_info": {
   "codemirror_mode": {
    "name": "ipython",
    "version": 3
   },
   "file_extension": ".py",
   "mimetype": "text/x-python",
   "name": "python",
   "nbconvert_exporter": "python",
   "pygments_lexer": "ipython3",
   "version": "3.12.10"
  }
 },
 "nbformat": 4,
 "nbformat_minor": 5
}
